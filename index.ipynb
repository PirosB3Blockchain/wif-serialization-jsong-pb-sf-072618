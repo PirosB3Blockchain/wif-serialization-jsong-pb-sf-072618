{
 "cells": [
  {
   "cell_type": "markdown",
   "metadata": {},
   "source": [
    "# WIF Serialization\n",
    "\n",
    "WIF is the serialization of a Private Key.\n",
    "\n",
    "#### Find the WIF Format of the following:\n",
    "\n",
    "* \\\\(2^{256}-2^{199}\\\\), mainnet, compressed\n",
    "* \\\\(2^{256}-2^{201}\\\\), testnet, uncompressed\n",
    "* 0dba685b4511dbd3d368e5c4358a1277de9486447af7b3604a69b8d9d8b7889d, mainnet, uncompressed\n",
    "* 1cca23de92fd1862fb5b76e5f4f50eb082165e5191e116c18ed1a6b24be6a53f, testnet, compressed"
   ]
  },
  {
   "cell_type": "code",
   "execution_count": null,
   "metadata": {},
   "outputs": [],
   "source": [
    "# WIF Example\n",
    "from helper import encode_base58_checksum\n",
    "\n",
    "secret = 2**256 - 2**200\n",
    "s = secret.to_bytes(32, 'big')\n",
    "print(encode_base58_checksum(b'\\x80'+s))\n",
    "print(encode_base58_checksum(b'\\x80'+s+b'\\x01'))\n",
    "print(encode_base58_checksum(b'\\xef'+s))\n",
    "print(encode_base58_checksum(b'\\xef'+s+b'\\x01'))"
   ]
  },
  {
   "cell_type": "markdown",
   "metadata": {},
   "source": [
    "### Try it"
   ]
  },
  {
   "cell_type": "code",
   "execution_count": null,
   "metadata": {},
   "outputs": [],
   "source": [
    "from helper import encode_base58_checksum\n",
    "\n",
    "components = (\n",
    "    # (secret, testnet, compressed)\n",
    "    (2**256-2**199, False, True),\n",
    "    (2**256-2**201, True, False),\n",
    "    (0x0dba685b4511dbd3d368e5c4358a1277de9486447af7b3604a69b8d9d8b7889d, False, False),\n",
    "    (0x1cca23de92fd1862fb5b76e5f4f50eb082165e5191e116c18ed1a6b24be6a53f, True, True),\n",
    ")\n",
    "\n",
    "# iterate through components\n",
    "    # get the private key in 32-byte big-endian: num.to_bytes(32, 'big')\n",
    "    # prepend b'\\x80' for mainnet, b'\\xef' for testnet\n",
    "    # append b'\\x01' for compressed\n",
    "    # base58 the whole thing with checksum\n",
    "    # print the wif"
   ]
  },
  {
   "cell_type": "markdown",
   "metadata": {},
   "source": [
    "### Test Driven Exercise"
   ]
  },
  {
   "cell_type": "code",
   "execution_count": 2,
   "metadata": {},
   "outputs": [],
   "source": [
    "# Exercise 3.2\n",
    "from ecc import PrivateKey\n",
    "\n",
    "class PrivateKey(PrivateKey):\n",
    "\n",
    "    def wif(self, compressed=True, testnet=False):\n",
    "        \n",
    "        \n",
    "        secret_bytes = self.secret.to_bytes(32, 'big')\n",
    "        prefix = b'\\xef' if testnet else b'\\x80'\n",
    "        suffix = b'\\x01' if compressed else ''\n",
    "        result = prefix + secret_bytes + suffix\n",
    "        return encode_base58_checksum(result)\n",
    "        # convert the secret from integer to a 32-bytes in big endian using num.to_bytes(32, 'big')\n",
    "        # prepend b'\\xef' on testnet, b'\\x80' on mainnet\n",
    "        # append b'\\x01' if compressed\n",
    "        # encode_base58_checksum the whole thing"
   ]
  },
  {
   "cell_type": "code",
   "execution_count": 5,
   "metadata": {},
   "outputs": [
    {
     "ename": "NameError",
     "evalue": "name 'encode_base58_checksum' is not defined",
     "output_type": "error",
     "traceback": [
      "\u001b[0;31m\u001b[0m",
      "\u001b[0;31mNameError\u001b[0mTraceback (most recent call last)",
      "\u001b[0;32m<ipython-input-5-04bc906092a5>\u001b[0m in \u001b[0;36m<module>\u001b[0;34m()\u001b[0m\n\u001b[1;32m      1\u001b[0m \u001b[0masd\u001b[0m \u001b[0;34m=\u001b[0m \u001b[0mPrivateKey\u001b[0m\u001b[0;34m(\u001b[0m\u001b[0;36m2\u001b[0m\u001b[0;34m**\u001b[0m\u001b[0;36m256\u001b[0m\u001b[0;34m-\u001b[0m\u001b[0;36m2\u001b[0m\u001b[0;34m**\u001b[0m\u001b[0;36m199\u001b[0m\u001b[0;34m)\u001b[0m\u001b[0;34m\u001b[0m\u001b[0m\n\u001b[0;32m----> 2\u001b[0;31m \u001b[0mprint\u001b[0m\u001b[0;34m(\u001b[0m\u001b[0masd\u001b[0m\u001b[0;34m.\u001b[0m\u001b[0mwif\u001b[0m\u001b[0;34m(\u001b[0m\u001b[0;34m)\u001b[0m\u001b[0;34m)\u001b[0m\u001b[0;34m\u001b[0m\u001b[0m\n\u001b[0m",
      "\u001b[0;32m<ipython-input-2-55fabef4e713>\u001b[0m in \u001b[0;36mwif\u001b[0;34m(self, compressed, testnet)\u001b[0m\n\u001b[1;32m     11\u001b[0m         \u001b[0msuffix\u001b[0m \u001b[0;34m=\u001b[0m \u001b[0;34mb'\\x01'\u001b[0m \u001b[0;32mif\u001b[0m \u001b[0mcompressed\u001b[0m \u001b[0;32melse\u001b[0m \u001b[0;34m''\u001b[0m\u001b[0;34m\u001b[0m\u001b[0m\n\u001b[1;32m     12\u001b[0m         \u001b[0mresult\u001b[0m \u001b[0;34m=\u001b[0m \u001b[0mprefix\u001b[0m \u001b[0;34m+\u001b[0m \u001b[0msecret_bytes\u001b[0m \u001b[0;34m+\u001b[0m \u001b[0msuffix\u001b[0m\u001b[0;34m\u001b[0m\u001b[0m\n\u001b[0;32m---> 13\u001b[0;31m         \u001b[0;32mreturn\u001b[0m \u001b[0mencode_base58_checksum\u001b[0m\u001b[0;34m(\u001b[0m\u001b[0mresult\u001b[0m\u001b[0;34m)\u001b[0m\u001b[0;34m\u001b[0m\u001b[0m\n\u001b[0m\u001b[1;32m     14\u001b[0m         \u001b[0;31m# convert the secret from integer to a 32-bytes in big endian using num.to_bytes(32, 'big')\u001b[0m\u001b[0;34m\u001b[0m\u001b[0;34m\u001b[0m\u001b[0m\n\u001b[1;32m     15\u001b[0m         \u001b[0;31m# prepend b'\\xef' on testnet, b'\\x80' on mainnet\u001b[0m\u001b[0;34m\u001b[0m\u001b[0;34m\u001b[0m\u001b[0m\n",
      "\u001b[0;31mNameError\u001b[0m: name 'encode_base58_checksum' is not defined"
     ]
    }
   ],
   "source": [
    "asd = PrivateKey(2**256-2**199)\n",
    "print(asd.wif())"
   ]
  },
  {
   "cell_type": "code",
   "execution_count": null,
   "metadata": {},
   "outputs": [],
   "source": []
  }
 ],
 "metadata": {
  "kernelspec": {
   "display_name": "Python 3",
   "language": "python",
   "name": "python3"
  },
  "language_info": {
   "codemirror_mode": {
    "name": "ipython",
    "version": 3
   },
   "file_extension": ".py",
   "mimetype": "text/x-python",
   "name": "python",
   "nbconvert_exporter": "python",
   "pygments_lexer": "ipython3",
   "version": "3.6.4"
  }
 },
 "nbformat": 4,
 "nbformat_minor": 2
}
